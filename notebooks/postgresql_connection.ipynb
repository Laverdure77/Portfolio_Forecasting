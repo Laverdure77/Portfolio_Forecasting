{
 "cells": [
  {
   "cell_type": "code",
   "execution_count": 9,
   "metadata": {},
   "outputs": [
    {
     "name": "stdout",
     "output_type": "stream",
     "text": [
      "Requirement already satisfied: psycopg2 in c:\\python311\\lib\\site-packages (2.9.5)\n"
     ]
    }
   ],
   "source": [
    "!pip install psycopg2"
   ]
  },
  {
   "cell_type": "code",
   "execution_count": 15,
   "metadata": {},
   "outputs": [],
   "source": [
    "import pandas.io.sql as psql"
   ]
  },
  {
   "cell_type": "code",
   "execution_count": 16,
   "metadata": {},
   "outputs": [],
   "source": [
    "import psycopg2 as pg\n",
    "\n",
    "conn = pg.connect(database=\"stock_portfolio\",\n",
    "                        host=\"a.frankfurt-postgres.render.com\",\n",
    "                        user=\"stock_portfolio_user\",\n",
    "                        password=\"iCRL8uqbA2JWW8Mvg7EJo8wXicNnVNuo\",\n",
    "                        port=\"5432\")"
   ]
  },
  {
   "cell_type": "code",
   "execution_count": 17,
   "metadata": {},
   "outputs": [],
   "source": [
    "cursor = conn.cursor()"
   ]
  },
  {
   "cell_type": "code",
   "execution_count": 18,
   "metadata": {},
   "outputs": [
    {
     "data": {
      "text/plain": [
       "[(1,\n",
       "  'Ailn',\n",
       "  'Rathmouth',\n",
       "  'Rathmouth',\n",
       "  '05144461974',\n",
       "  'Female',\n",
       "  'mailn0@bravesites.com',\n",
       "  '97228 Emmalee Harbors Suite 421 South Emmet, TX 54950',\n",
       "  23031,\n",
       "  datetime.date(2001, 12, 16)),\n",
       " (2,\n",
       "  'Hounson',\n",
       "  'Port Lolamouth',\n",
       "  'Port Lolamouth',\n",
       "  '1-136-366-9496',\n",
       "  'Female',\n",
       "  'dhounson1@slashdot.org',\n",
       "  '62654 Hirthe Lodge Port Zeldafurt, DE 87270',\n",
       "  27108,\n",
       "  datetime.date(1977, 1, 21)),\n",
       " (3,\n",
       "  'Tison',\n",
       "  'Lavernastad',\n",
       "  'Lavernastad',\n",
       "  '157-283-0337x872',\n",
       "  'Female',\n",
       "  'ctison2@europa.eu',\n",
       "  '9107 Blanda Plains Apt. 476 North Burdettechester, NM 91601',\n",
       "  76631,\n",
       "  datetime.date(1984, 3, 26))]"
      ]
     },
     "execution_count": 18,
     "metadata": {},
     "output_type": "execute_result"
    }
   ],
   "source": [
    "cursor.execute(\"SELECT * FROM students\")\n",
    "cursor.fetchall()"
   ]
  },
  {
   "cell_type": "code",
   "execution_count": 20,
   "metadata": {},
   "outputs": [
    {
     "name": "stderr",
     "output_type": "stream",
     "text": [
      "C:\\Users\\test\\AppData\\Local\\Temp\\ipykernel_6660\\3684271905.py:1: UserWarning: pandas only supports SQLAlchemy connectable (engine/connection) or database string URI or sqlite3 DBAPI2 connection. Other DBAPI2 objects are not tested. Please consider using SQLAlchemy.\n",
      "  dataframe = psql.read_sql('SELECT * FROM students', conn)\n"
     ]
    }
   ],
   "source": [
    "dataframe = psql.read_sql('SELECT * FROM students', conn)"
   ]
  },
  {
   "cell_type": "code",
   "execution_count": 21,
   "metadata": {},
   "outputs": [
    {
     "data": {
      "text/html": [
       "<div>\n",
       "<style scoped>\n",
       "    .dataframe tbody tr th:only-of-type {\n",
       "        vertical-align: middle;\n",
       "    }\n",
       "\n",
       "    .dataframe tbody tr th {\n",
       "        vertical-align: top;\n",
       "    }\n",
       "\n",
       "    .dataframe thead th {\n",
       "        text-align: right;\n",
       "    }\n",
       "</style>\n",
       "<table border=\"1\" class=\"dataframe\">\n",
       "  <thead>\n",
       "    <tr style=\"text-align: right;\">\n",
       "      <th></th>\n",
       "      <th>id</th>\n",
       "      <th>first_name</th>\n",
       "      <th>last_name</th>\n",
       "      <th>city</th>\n",
       "      <th>phone</th>\n",
       "      <th>gender</th>\n",
       "      <th>email</th>\n",
       "      <th>address</th>\n",
       "      <th>postcode</th>\n",
       "      <th>date_of_birth</th>\n",
       "    </tr>\n",
       "  </thead>\n",
       "  <tbody>\n",
       "    <tr>\n",
       "      <th>0</th>\n",
       "      <td>1</td>\n",
       "      <td>Ailn</td>\n",
       "      <td>Rathmouth</td>\n",
       "      <td>Rathmouth</td>\n",
       "      <td>05144461974</td>\n",
       "      <td>Female</td>\n",
       "      <td>mailn0@bravesites.com</td>\n",
       "      <td>97228 Emmalee Harbors Suite 421 South Emmet, T...</td>\n",
       "      <td>23031</td>\n",
       "      <td>2001-12-16</td>\n",
       "    </tr>\n",
       "    <tr>\n",
       "      <th>1</th>\n",
       "      <td>2</td>\n",
       "      <td>Hounson</td>\n",
       "      <td>Port Lolamouth</td>\n",
       "      <td>Port Lolamouth</td>\n",
       "      <td>1-136-366-9496</td>\n",
       "      <td>Female</td>\n",
       "      <td>dhounson1@slashdot.org</td>\n",
       "      <td>62654 Hirthe Lodge Port Zeldafurt, DE 87270</td>\n",
       "      <td>27108</td>\n",
       "      <td>1977-01-21</td>\n",
       "    </tr>\n",
       "    <tr>\n",
       "      <th>2</th>\n",
       "      <td>3</td>\n",
       "      <td>Tison</td>\n",
       "      <td>Lavernastad</td>\n",
       "      <td>Lavernastad</td>\n",
       "      <td>157-283-0337x872</td>\n",
       "      <td>Female</td>\n",
       "      <td>ctison2@europa.eu</td>\n",
       "      <td>9107 Blanda Plains Apt. 476 North Burdetteches...</td>\n",
       "      <td>76631</td>\n",
       "      <td>1984-03-26</td>\n",
       "    </tr>\n",
       "  </tbody>\n",
       "</table>\n",
       "</div>"
      ],
      "text/plain": [
       "   id first_name       last_name            city             phone  gender  \\\n",
       "0   1       Ailn       Rathmouth       Rathmouth       05144461974  Female   \n",
       "1   2    Hounson  Port Lolamouth  Port Lolamouth    1-136-366-9496  Female   \n",
       "2   3      Tison     Lavernastad     Lavernastad  157-283-0337x872  Female   \n",
       "\n",
       "                    email                                            address  \\\n",
       "0   mailn0@bravesites.com  97228 Emmalee Harbors Suite 421 South Emmet, T...   \n",
       "1  dhounson1@slashdot.org        62654 Hirthe Lodge Port Zeldafurt, DE 87270   \n",
       "2       ctison2@europa.eu  9107 Blanda Plains Apt. 476 North Burdetteches...   \n",
       "\n",
       "   postcode date_of_birth  \n",
       "0     23031    2001-12-16  \n",
       "1     27108    1977-01-21  \n",
       "2     76631    1984-03-26  "
      ]
     },
     "execution_count": 21,
     "metadata": {},
     "output_type": "execute_result"
    }
   ],
   "source": [
    "dataframe.head()"
   ]
  },
  {
   "cell_type": "code",
   "execution_count": 13,
   "metadata": {},
   "outputs": [],
   "source": [
    "conn.close()"
   ]
  }
 ],
 "metadata": {
  "kernelspec": {
   "display_name": "Python 3",
   "language": "python",
   "name": "python3"
  },
  "language_info": {
   "codemirror_mode": {
    "name": "ipython",
    "version": 3
   },
   "file_extension": ".py",
   "mimetype": "text/x-python",
   "name": "python",
   "nbconvert_exporter": "python",
   "pygments_lexer": "ipython3",
   "version": "3.11.0"
  },
  "orig_nbformat": 4,
  "vscode": {
   "interpreter": {
    "hash": "c261aea317cc0286b3b3261fbba9abdec21eaa57589985bb7a274bf54d6cc0a7"
   }
  }
 },
 "nbformat": 4,
 "nbformat_minor": 2
}
