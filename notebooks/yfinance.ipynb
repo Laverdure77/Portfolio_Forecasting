{
 "cells": [
  {
   "cell_type": "code",
   "execution_count": 26,
   "metadata": {},
   "outputs": [],
   "source": [
    "import statsmodels.api as sm\n",
    "from datetime import datetime\n",
    "import yfinance as yf\n",
    "from datetime import datetime\n",
    "from datetime import timedelta\n",
    "  \n"
   ]
  },
  {
   "cell_type": "code",
   "execution_count": 20,
   "metadata": {},
   "outputs": [],
   "source": []
  },
  {
   "cell_type": "code",
   "execution_count": 28,
   "metadata": {},
   "outputs": [
    {
     "name": "stdout",
     "output_type": "stream",
     "text": [
      "[*********************100%***********************]  6 of 6 completed\n"
     ]
    }
   ],
   "source": [
    "end_date = datetime.today()\n",
    "start_date = end_date - timedelta(days=3650)\n",
    "df = yf.download( ['SPY','BABA', 'AAPL','LLY', 'GIS', 'XOM'],\n",
    "    start=start_date,\n",
    "    end = end_date\n",
    ")"
   ]
  },
  {
   "cell_type": "code",
   "execution_count": 29,
   "metadata": {},
   "outputs": [
    {
     "data": {
      "text/html": [
       "<div>\n",
       "<style scoped>\n",
       "    .dataframe tbody tr th:only-of-type {\n",
       "        vertical-align: middle;\n",
       "    }\n",
       "\n",
       "    .dataframe tbody tr th {\n",
       "        vertical-align: top;\n",
       "    }\n",
       "\n",
       "    .dataframe thead tr th {\n",
       "        text-align: left;\n",
       "    }\n",
       "\n",
       "    .dataframe thead tr:last-of-type th {\n",
       "        text-align: right;\n",
       "    }\n",
       "</style>\n",
       "<table border=\"1\" class=\"dataframe\">\n",
       "  <thead>\n",
       "    <tr>\n",
       "      <th></th>\n",
       "      <th colspan=\"6\" halign=\"left\">Adj Close</th>\n",
       "      <th colspan=\"4\" halign=\"left\">Close</th>\n",
       "      <th>...</th>\n",
       "      <th colspan=\"4\" halign=\"left\">Open</th>\n",
       "      <th colspan=\"6\" halign=\"left\">Volume</th>\n",
       "    </tr>\n",
       "    <tr>\n",
       "      <th></th>\n",
       "      <th>AAPL</th>\n",
       "      <th>BABA</th>\n",
       "      <th>GIS</th>\n",
       "      <th>LLY</th>\n",
       "      <th>SPY</th>\n",
       "      <th>XOM</th>\n",
       "      <th>AAPL</th>\n",
       "      <th>BABA</th>\n",
       "      <th>GIS</th>\n",
       "      <th>LLY</th>\n",
       "      <th>...</th>\n",
       "      <th>GIS</th>\n",
       "      <th>LLY</th>\n",
       "      <th>SPY</th>\n",
       "      <th>XOM</th>\n",
       "      <th>AAPL</th>\n",
       "      <th>BABA</th>\n",
       "      <th>GIS</th>\n",
       "      <th>LLY</th>\n",
       "      <th>SPY</th>\n",
       "      <th>XOM</th>\n",
       "    </tr>\n",
       "    <tr>\n",
       "      <th>Date</th>\n",
       "      <th></th>\n",
       "      <th></th>\n",
       "      <th></th>\n",
       "      <th></th>\n",
       "      <th></th>\n",
       "      <th></th>\n",
       "      <th></th>\n",
       "      <th></th>\n",
       "      <th></th>\n",
       "      <th></th>\n",
       "      <th></th>\n",
       "      <th></th>\n",
       "      <th></th>\n",
       "      <th></th>\n",
       "      <th></th>\n",
       "      <th></th>\n",
       "      <th></th>\n",
       "      <th></th>\n",
       "      <th></th>\n",
       "      <th></th>\n",
       "      <th></th>\n",
       "    </tr>\n",
       "  </thead>\n",
       "  <tbody>\n",
       "    <tr>\n",
       "      <th>2023-03-02</th>\n",
       "      <td>145.910004</td>\n",
       "      <td>89.750000</td>\n",
       "      <td>78.949997</td>\n",
       "      <td>315.049988</td>\n",
       "      <td>397.809998</td>\n",
       "      <td>111.400002</td>\n",
       "      <td>145.910004</td>\n",
       "      <td>89.750000</td>\n",
       "      <td>78.949997</td>\n",
       "      <td>315.049988</td>\n",
       "      <td>...</td>\n",
       "      <td>78.989998</td>\n",
       "      <td>311.790009</td>\n",
       "      <td>392.679993</td>\n",
       "      <td>110.620003</td>\n",
       "      <td>52238100</td>\n",
       "      <td>24829000.0</td>\n",
       "      <td>2374500</td>\n",
       "      <td>2885200</td>\n",
       "      <td>85127800</td>\n",
       "      <td>10339900</td>\n",
       "    </tr>\n",
       "    <tr>\n",
       "      <th>2023-03-03</th>\n",
       "      <td>151.029999</td>\n",
       "      <td>89.699997</td>\n",
       "      <td>79.599998</td>\n",
       "      <td>318.429993</td>\n",
       "      <td>404.190002</td>\n",
       "      <td>112.809998</td>\n",
       "      <td>151.029999</td>\n",
       "      <td>89.699997</td>\n",
       "      <td>79.599998</td>\n",
       "      <td>318.429993</td>\n",
       "      <td>...</td>\n",
       "      <td>78.510002</td>\n",
       "      <td>316.369995</td>\n",
       "      <td>399.709991</td>\n",
       "      <td>110.050003</td>\n",
       "      <td>70668500</td>\n",
       "      <td>25767000.0</td>\n",
       "      <td>2540000</td>\n",
       "      <td>3002800</td>\n",
       "      <td>90038300</td>\n",
       "      <td>12999400</td>\n",
       "    </tr>\n",
       "    <tr>\n",
       "      <th>2023-03-06</th>\n",
       "      <td>153.830002</td>\n",
       "      <td>89.620003</td>\n",
       "      <td>79.110001</td>\n",
       "      <td>318.959991</td>\n",
       "      <td>404.470001</td>\n",
       "      <td>113.809998</td>\n",
       "      <td>153.830002</td>\n",
       "      <td>89.620003</td>\n",
       "      <td>79.110001</td>\n",
       "      <td>318.959991</td>\n",
       "      <td>...</td>\n",
       "      <td>79.410004</td>\n",
       "      <td>316.940002</td>\n",
       "      <td>405.049988</td>\n",
       "      <td>111.989998</td>\n",
       "      <td>87558000</td>\n",
       "      <td>16983900.0</td>\n",
       "      <td>2676900</td>\n",
       "      <td>2673700</td>\n",
       "      <td>72795900</td>\n",
       "      <td>14347400</td>\n",
       "    </tr>\n",
       "    <tr>\n",
       "      <th>2023-03-07</th>\n",
       "      <td>151.600006</td>\n",
       "      <td>88.730003</td>\n",
       "      <td>79.040001</td>\n",
       "      <td>310.630005</td>\n",
       "      <td>398.269989</td>\n",
       "      <td>111.610001</td>\n",
       "      <td>151.600006</td>\n",
       "      <td>88.730003</td>\n",
       "      <td>79.040001</td>\n",
       "      <td>310.630005</td>\n",
       "      <td>...</td>\n",
       "      <td>79.209999</td>\n",
       "      <td>319.000000</td>\n",
       "      <td>404.420013</td>\n",
       "      <td>112.809998</td>\n",
       "      <td>56182000</td>\n",
       "      <td>14514700.0</td>\n",
       "      <td>2287800</td>\n",
       "      <td>2620800</td>\n",
       "      <td>108310600</td>\n",
       "      <td>11525300</td>\n",
       "    </tr>\n",
       "    <tr>\n",
       "      <th>2023-03-08</th>\n",
       "      <td>152.869995</td>\n",
       "      <td>86.949997</td>\n",
       "      <td>79.169998</td>\n",
       "      <td>312.540009</td>\n",
       "      <td>398.920013</td>\n",
       "      <td>109.980003</td>\n",
       "      <td>152.869995</td>\n",
       "      <td>86.949997</td>\n",
       "      <td>79.169998</td>\n",
       "      <td>312.540009</td>\n",
       "      <td>...</td>\n",
       "      <td>79.360001</td>\n",
       "      <td>310.500000</td>\n",
       "      <td>398.390015</td>\n",
       "      <td>111.230003</td>\n",
       "      <td>47129000</td>\n",
       "      <td>14695000.0</td>\n",
       "      <td>2017000</td>\n",
       "      <td>2312300</td>\n",
       "      <td>74537300</td>\n",
       "      <td>13503400</td>\n",
       "    </tr>\n",
       "  </tbody>\n",
       "</table>\n",
       "<p>5 rows × 36 columns</p>\n",
       "</div>"
      ],
      "text/plain": [
       "             Adj Close                                                \\\n",
       "                  AAPL       BABA        GIS         LLY         SPY   \n",
       "Date                                                                   \n",
       "2023-03-02  145.910004  89.750000  78.949997  315.049988  397.809998   \n",
       "2023-03-03  151.029999  89.699997  79.599998  318.429993  404.190002   \n",
       "2023-03-06  153.830002  89.620003  79.110001  318.959991  404.470001   \n",
       "2023-03-07  151.600006  88.730003  79.040001  310.630005  398.269989   \n",
       "2023-03-08  152.869995  86.949997  79.169998  312.540009  398.920013   \n",
       "\n",
       "                             Close                                    ...  \\\n",
       "                   XOM        AAPL       BABA        GIS         LLY  ...   \n",
       "Date                                                                  ...   \n",
       "2023-03-02  111.400002  145.910004  89.750000  78.949997  315.049988  ...   \n",
       "2023-03-03  112.809998  151.029999  89.699997  79.599998  318.429993  ...   \n",
       "2023-03-06  113.809998  153.830002  89.620003  79.110001  318.959991  ...   \n",
       "2023-03-07  111.610001  151.600006  88.730003  79.040001  310.630005  ...   \n",
       "2023-03-08  109.980003  152.869995  86.949997  79.169998  312.540009  ...   \n",
       "\n",
       "                 Open                                        Volume  \\\n",
       "                  GIS         LLY         SPY         XOM      AAPL   \n",
       "Date                                                                  \n",
       "2023-03-02  78.989998  311.790009  392.679993  110.620003  52238100   \n",
       "2023-03-03  78.510002  316.369995  399.709991  110.050003  70668500   \n",
       "2023-03-06  79.410004  316.940002  405.049988  111.989998  87558000   \n",
       "2023-03-07  79.209999  319.000000  404.420013  112.809998  56182000   \n",
       "2023-03-08  79.360001  310.500000  398.390015  111.230003  47129000   \n",
       "\n",
       "                                                               \n",
       "                  BABA      GIS      LLY        SPY       XOM  \n",
       "Date                                                           \n",
       "2023-03-02  24829000.0  2374500  2885200   85127800  10339900  \n",
       "2023-03-03  25767000.0  2540000  3002800   90038300  12999400  \n",
       "2023-03-06  16983900.0  2676900  2673700   72795900  14347400  \n",
       "2023-03-07  14514700.0  2287800  2620800  108310600  11525300  \n",
       "2023-03-08  14695000.0  2017000  2312300   74537300  13503400  \n",
       "\n",
       "[5 rows x 36 columns]"
      ]
     },
     "execution_count": 29,
     "metadata": {},
     "output_type": "execute_result"
    }
   ],
   "source": [
    "df.tail()\n",
    "# df.columns"
   ]
  },
  {
   "cell_type": "code",
   "execution_count": 37,
   "metadata": {},
   "outputs": [
    {
     "data": {
      "text/plain": [
       "Date\n",
       "2013-03-11     13.506429\n",
       "2013-03-12     13.215249\n",
       "2013-03-13     13.212777\n",
       "2013-03-14     13.340788\n",
       "2013-03-15     13.685024\n",
       "                 ...    \n",
       "2023-03-02    145.910004\n",
       "2023-03-03    151.029999\n",
       "2023-03-06    153.830002\n",
       "2023-03-07    151.600006\n",
       "2023-03-08    152.869995\n",
       "Name: AAPL, Length: 2517, dtype: float64"
      ]
     },
     "execution_count": 37,
     "metadata": {},
     "output_type": "execute_result"
    }
   ],
   "source": [
    "data = df['Adj Close']\n",
    "# data.head()"
   ]
  },
  {
   "cell_type": "code",
   "execution_count": 39,
   "metadata": {},
   "outputs": [
    {
     "data": {
      "text/plain": [
       "Index(['AAPL', 'BABA', 'GIS', 'LLY', 'SPY', 'XOM'], dtype='object')"
      ]
     },
     "execution_count": 39,
     "metadata": {},
     "output_type": "execute_result"
    }
   ],
   "source": [
    "data.columns"
   ]
  },
  {
   "cell_type": "code",
   "execution_count": 38,
   "metadata": {},
   "outputs": [
    {
     "data": {
      "text/plain": [
       "Text(0.5, 0, 'Date')"
      ]
     },
     "execution_count": 38,
     "metadata": {},
     "output_type": "execute_result"
    },
    {
     "data": {
      "image/png": "[encoded data removed]",
      "text/plain": [
       "<Figure size 640x480 with 1 Axes>"
      ]
     },
     "metadata": {},
     "output_type": "display_data"
    }
   ],
   "source": [
    "import matplotlib.pyplot as plt\n",
    "plt.title('Opening Prices between {} and {}'.format(\n",
    "    start_date.date().isoformat(),\n",
    "    end_date.date().isoformat()\n",
    "))\n",
    "data['AAPL'].plot()\n",
    "plt.ylabel('Price')\n",
    "plt.xlabel('Date')"
   ]
  },
  {
   "cell_type": "code",
   "execution_count": 41,
   "metadata": {},
   "outputs": [],
   "source": [
    "filename = './datas/apple.csv'\n",
    "stock  = data['AAPL'].to_csv(filename, index_label=False)"
   ]
  }
 ],
 "metadata": {
  "kernelspec": {
   "display_name": "Python 3",
   "language": "python",
   "name": "python3"
  },
  "language_info": {
   "codemirror_mode": {
    "name": "ipython",
    "version": 3
   },
   "file_extension": ".py",
   "mimetype": "text/x-python",
   "name": "python",
   "nbconvert_exporter": "python",
   "pygments_lexer": "ipython3",
   "version": "3.10.1 (tags/v3.10.1:2cd268a, Dec  6 2021, 19:10:37) [MSC v.1929 64 bit (AMD64)]"
  },
  "orig_nbformat": 4,
  "vscode": {
   "interpreter": {
    "hash": "369f2c481f4da34e4445cda3fffd2e751bd1c4d706f27375911949ba6bb62e1c"
   }
  }
 },
 "nbformat": 4,
 "nbformat_minor": 2
}
